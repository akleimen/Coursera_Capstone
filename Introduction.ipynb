{
 "cells": [
  {
   "cell_type": "markdown",
   "metadata": {},
   "source": [
    "# Introduction/Business Problem"
   ]
  },
  {
   "cell_type": "markdown",
   "metadata": {},
   "source": [
    "### Introduction\n",
    "\n",
    "Moving to another city is very exciting but also very stressful. \n",
    "Searching for a new place to stay for at least a year can be a nightmare, especially in a completely new city. \n",
    "Sometimes so many things need to be taken into account: rental prices, bus/train/metro stops, shops, schools or kindergartens or both nearby and so on.\n",
    "Thus, it would be very helpful to reduce the area of search from the whole city to a group of neighbourhoods matching user's preferences."
   ]
  },
  {
   "cell_type": "markdown",
   "metadata": {},
   "source": [
    "### Business problem\n",
    "\n",
    "The aim of this capstone project is to find a neighbourhood (or group of neighbourhoods) in another city based on the current location of the user (or any preferred location).\n",
    "Therefore, the question we are going to answer in the end of this project is: in which neighbourhood I should search an apartment to rent/to buy?\n",
    "\n",
    "This project can be of particular interest for people who change their workplace frequently, such as, for example, people working in academia."
   ]
  },
  {
   "cell_type": "code",
   "execution_count": null,
   "metadata": {},
   "outputs": [],
   "source": []
  }
 ],
 "metadata": {
  "kernelspec": {
   "display_name": "Python 3",
   "language": "python",
   "name": "python3"
  },
  "language_info": {
   "codemirror_mode": {
    "name": "ipython",
    "version": 3
   },
   "file_extension": ".py",
   "mimetype": "text/x-python",
   "name": "python",
   "nbconvert_exporter": "python",
   "pygments_lexer": "ipython3",
   "version": "3.7.6"
  }
 },
 "nbformat": 4,
 "nbformat_minor": 4
}
