{
 "cells": [
  {
   "cell_type": "markdown",
   "metadata": {},
   "source": [
    "# Data description"
   ]
  },
  {
   "cell_type": "markdown",
   "metadata": {},
   "source": [
    "For this project we will need the location of the current user address and location of the neghborhoods in the new city.\n",
    "\n",
    "Geneva negborhoods are taken from [Wikipedia](https://fr.wikipedia.org/wiki/Cat%C3%A9gorie:Quartier_de_Gen%C3%A8ve), their geopositions are taken also from Wikipedia using french version of [MediaWiki API](https://en.wikipedia.org/w/api.php).\n",
    "To obtain this data we will use `Beautiful Soup` library.\n",
    "\n",
    "Current user address chosen arbitrary and set to *Chaussee de Wavre 442, Brussels, Belgium*, its latitude and longitude data will be extracted using `geopy` client.\n",
    "\n",
    "To compare user's current address with the neighbourhoods in the new city, we will use `Foursquare API`. \n",
    "From this API we will request following information for each neighbourhood using its geoposition:\n",
    "\n",
    "1. Venue\n",
    "2. Name of the venue\n",
    "3. Venue Latitude\n",
    "4. Venue Longitude\n",
    "5. Venue Category\n",
    "\n",
    "The search radius will be set to 1 km and we limit number of venues to 100.\n",
    "\n",
    "We will use machine learning algorithm *k-means clustering* to define clusters of neighbourhoods in the new city, and then we compare the clusters to the chosen address. "
   ]
  },
  {
   "cell_type": "code",
   "execution_count": null,
   "metadata": {},
   "outputs": [],
   "source": []
  }
 ],
 "metadata": {
  "kernelspec": {
   "display_name": "Python 3",
   "language": "python",
   "name": "python3"
  },
  "language_info": {
   "codemirror_mode": {
    "name": "ipython",
    "version": 3
   },
   "file_extension": ".py",
   "mimetype": "text/x-python",
   "name": "python",
   "nbconvert_exporter": "python",
   "pygments_lexer": "ipython3",
   "version": "3.7.6"
  }
 },
 "nbformat": 4,
 "nbformat_minor": 4
}
